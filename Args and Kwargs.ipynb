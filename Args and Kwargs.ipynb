{
 "cells": [
  {
   "cell_type": "markdown",
   "id": "ecd4426b",
   "metadata": {},
   "source": [
    "# Arg"
   ]
  },
  {
   "cell_type": "code",
   "execution_count": 1,
   "id": "39d0e275",
   "metadata": {},
   "outputs": [
    {
     "name": "stdout",
     "output_type": "stream",
     "text": [
      "14\n"
     ]
    }
   ],
   "source": [
    "def total(a,b,c):\n",
    "    sum= a+b+c\n",
    "    return sum\n",
    "print(total(3,5,6))"
   ]
  },
  {
   "cell_type": "code",
   "execution_count": 3,
   "id": "0f72725b",
   "metadata": {},
   "outputs": [
    {
     "name": "stdout",
     "output_type": "stream",
     "text": [
      "99\n"
     ]
    }
   ],
   "source": [
    "#but if we try more than 3 values is shows error bcoz this function is made for 3 variable\n",
    "\n",
    "#to make is completely free we use ARG (ARG = *)\n",
    "\n",
    "def total(*a):   #after defining or using Arg it become list so we need to change function\n",
    "    sum=0\n",
    "    for numbers in a:\n",
    "        sum += numbers\n",
    "        \n",
    "    return sum\n",
    "print(total(3,5,6,25,50,10))"
   ]
  },
  {
   "cell_type": "code",
   "execution_count": 6,
   "id": "e19c720e",
   "metadata": {},
   "outputs": [
    {
     "name": "stdout",
     "output_type": "stream",
     "text": [
      "1521000\n"
     ]
    }
   ],
   "source": [
    "#for multiplication\n",
    "def multiply(*b):   #after defining or using Arg it become list so we need to change function\n",
    "    product=1\n",
    "    for numbers in b:\n",
    "        product = product*numbers\n",
    "        \n",
    "    return product\n",
    "print(multiply(3,5,6,25,52,13))"
   ]
  },
  {
   "cell_type": "markdown",
   "id": "1407f94b",
   "metadata": {},
   "source": [
    "# Kwarg"
   ]
  },
  {
   "cell_type": "code",
   "execution_count": 11,
   "id": "2d501f94",
   "metadata": {},
   "outputs": [
    {
     "name": "stdout",
     "output_type": "stream",
     "text": [
      "ankit\n",
      "kartik\n",
      "Yash\n"
     ]
    }
   ],
   "source": [
    "# kwarg= **\n",
    "#it's like a dictionary\n",
    "\n",
    "def yash(**c):\n",
    "    for key,value in c.items():\n",
    "        print(value)\n",
    "yash( first= \"ankit\", second=\"kartik\", third=\"Yash\")\n"
   ]
  },
  {
   "cell_type": "code",
   "execution_count": 12,
   "id": "dc9b6f66",
   "metadata": {},
   "outputs": [
    {
     "name": "stdout",
     "output_type": "stream",
     "text": [
      "296\n"
     ]
    }
   ],
   "source": [
    "#doing sum with kwarg method\n",
    "\n",
    "def yash(**d):\n",
    "    sum=0\n",
    "    for key,value in d.items():\n",
    "        sum += value\n",
    "    print(sum)\n",
    "yash( ankit=46,kartik=49, Yash=201)"
   ]
  },
  {
   "cell_type": "code",
   "execution_count": null,
   "id": "e5764e00",
   "metadata": {},
   "outputs": [],
   "source": []
  }
 ],
 "metadata": {
  "kernelspec": {
   "display_name": "Python 3",
   "language": "python",
   "name": "python3"
  },
  "language_info": {
   "codemirror_mode": {
    "name": "ipython",
    "version": 3
   },
   "file_extension": ".py",
   "mimetype": "text/x-python",
   "name": "python",
   "nbconvert_exporter": "python",
   "pygments_lexer": "ipython3",
   "version": "3.8.8"
  }
 },
 "nbformat": 4,
 "nbformat_minor": 5
}
